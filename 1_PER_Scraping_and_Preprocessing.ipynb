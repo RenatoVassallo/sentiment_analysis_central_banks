{
 "cells": [
  {
   "attachments": {},
   "cell_type": "markdown",
   "metadata": {},
   "source": [
    "# Predicting Monetary Policy Changes using NLP\n",
    "\n",
    "## Step 1: scraping central banks websites\n",
    "\n",
    "Goals of this notebook:\n",
    "+ Get the links of the statements in Peru\n",
    "+ Download and store the PDF of interest\n",
    "+ Create a master df with the name, date and text of each statement"
   ]
  },
  {
   "cell_type": "code",
   "execution_count": 1,
   "metadata": {},
   "outputs": [],
   "source": [
    "# Import packages \n",
    "from selenium import webdriver\n",
    "from selenium.webdriver.firefox.service import Service\n",
    "from bs4 import BeautifulSoup\n",
    "from time import sleep\n",
    "from random import uniform\n",
    "import re\n",
    "import os\n",
    "import pandas as pd\n",
    "import wget\n",
    "\n",
    "def wait_between(a, b):\n",
    "\tarb = uniform(a, b) \n",
    "\tsleep(arb)\n",
    "\n",
    "data_path = \"/home/renatovassallo/Omega/BSE/Term2/Textmining/term_paper/Data\""
   ]
  },
  {
   "attachments": {},
   "cell_type": "markdown",
   "metadata": {},
   "source": [
    "### Web Scraping"
   ]
  },
  {
   "cell_type": "code",
   "execution_count": 67,
   "metadata": {},
   "outputs": [
    {
     "name": "stderr",
     "output_type": "stream",
     "text": [
      "/tmp/ipykernel_1240/529701010.py:3: DeprecationWarning: firefox_profile has been deprecated, please use an Options object\n",
      "  profile = webdriver.FirefoxProfile()\n",
      "/tmp/ipykernel_1240/529701010.py:13: DeprecationWarning: firefox_profile has been deprecated, please pass in an Options object\n",
      "  driver = webdriver.Firefox(service=driverService, firefox_profile=profile, options=option)\n"
     ]
    },
    {
     "name": "stdout",
     "output_type": "stream",
     "text": [
      "Number of statements processed:  243\n",
      "----------------------------------\n"
     ]
    },
    {
     "data": {
      "text/plain": [
       "['/docs/Transparencia/Notas-Informativas/2023/nota-informativa-2023-01-12-1.pdf',\n",
       " '/docs/Transparencia/Notas-Informativas/2023/nota-informativa-2023-02-09-1.pdf',\n",
       " '/docs/Transparencia/Notas-Informativas/2022/nota-informativa-2022-01-06-1.pdf',\n",
       " '/docs/Transparencia/Notas-Informativas/2022/nota-informativa-2022-02-10-1.pdf',\n",
       " '/docs/Transparencia/Notas-Informativas/2022/nota-informativa-2022-03-10-1.pdf',\n",
       " '/docs/Transparencia/Notas-Informativas/2022/nota-informativa-2022-04-07-1.pdf',\n",
       " '/docs/Transparencia/Notas-Informativas/2022/nota-informativa-2022-05-12-1.pdf',\n",
       " '/docs/Transparencia/Notas-Informativas/2022/nota-informativa-2022-06-09-1.pdf',\n",
       " '/docs/Transparencia/Notas-Informativas/2022/nota-informativa-2022-07-07-1.pdf',\n",
       " '/docs/Transparencia/Notas-Informativas/2022/nota-informativa-2022-08-11-1.pdf',\n",
       " '/docs/Transparencia/Notas-Informativas/2022/nota-informativa-2022-09-08-1.pdf',\n",
       " '/docs/Transparencia/Notas-Informativas/2022/nota-informativa-2022-10-06-1.pdf',\n",
       " '/docs/Transparencia/Notas-Informativas/2022/nota-informativa-2022-11-10-1.pdf',\n",
       " '/docs/Transparencia/Notas-Informativas/2022/nota-informativa-2022-12-07-1.pdf',\n",
       " '/docs/Transparencia/Notas-Informativas/2021/nota-informativa-2021-01-14-1.pdf',\n",
       " '/docs/Transparencia/Notas-Informativas/2021/nota-informativa-2021-02-11-1.pdf',\n",
       " '/docs/Transparencia/Notas-Informativas/2021/nota-informativa-2021-03-11-2.pdf',\n",
       " '/docs/Transparencia/Notas-Informativas/2021/nota-informativa-2021-04-08-1.pdf',\n",
       " '/docs/Transparencia/Notas-Informativas/2021/nota-informativa-2021-05-13-1.pdf',\n",
       " '/docs/Transparencia/Notas-Informativas/2021/nota-informativa-2021-06-10-1.pdf']"
      ]
     },
     "execution_count": 67,
     "metadata": {},
     "output_type": "execute_result"
    }
   ],
   "source": [
    "profile = webdriver.FirefoxProfile()\n",
    "os.makedirs(data_path+'/statements_peru/', exist_ok=True)\n",
    "profile.set_preference(\"browser.download.dir\", data_path+'/statements_peru/')\n",
    "profile.set_preference(\"browser.download.folderList\", 2)\n",
    "profile.set_preference(\"browser.download.manager.showWhenStarting\", False)\n",
    "profile.set_preference(\"browser.helperApps.neverAsk.saveToDisk\", \"application/pdf\")\n",
    "profile.set_preference(\"pdfjs.disabled\", True)\n",
    "\n",
    "option = webdriver.FirefoxOptions()\n",
    "driverService = Service('browser/geckodriver')\n",
    "driver = webdriver.Firefox(service=driverService, firefox_profile=profile, options=option)\n",
    "\n",
    "# Get the href links from html using Selenium + BeauifulSoup\n",
    "main = 'https://www.bcrp.gob.pe'\n",
    "driver.get(main + '/politica-monetaria/notas-informativas-del-programa-monetario')\n",
    "wait_between(2,4)\n",
    "soup = BeautifulSoup(driver.page_source, 'html')\n",
    "driver.quit()\n",
    "\n",
    "# Keep only official statements \n",
    "text = str(soup)\n",
    "soup_clean = BeautifulSoup(text.split('<h2>2002</h2>')[0], 'html')\n",
    "\n",
    "# Get urls\n",
    "urls = []\n",
    "for link in soup_clean.find_all('a', href=True):\n",
    "    lenght = len(re.findall('(\\/docs\\/Transparencia\\/Notas-Informativas\\/\\d{4})', link['href']))\n",
    "    if lenght == 1:\n",
    "        if link['href'] not in urls:\n",
    "             urls.append(link['href'])\n",
    "\n",
    "print('Number of statements processed: ', len(urls))\n",
    "print('----------------------------------')\n",
    "urls[:20]"
   ]
  },
  {
   "attachments": {},
   "cell_type": "markdown",
   "metadata": {},
   "source": [
    "### Download PDFs"
   ]
  },
  {
   "cell_type": "code",
   "execution_count": null,
   "metadata": {},
   "outputs": [],
   "source": [
    "# Be careful! This line takes around 40 min (human behavior)\n",
    "urls.remove('/docs/Transparencia/Notas-Informativas/2020/nota-informativa-2020-03-12-1.pdf')\n",
    "for url in urls:\n",
    "    url = main + url\n",
    "    wget.download(url, data_path+'/statements_peru/')\n",
    "    wait_between(8, 12)"
   ]
  },
  {
   "attachments": {},
   "cell_type": "markdown",
   "metadata": {},
   "source": [
    "### You can run from here!"
   ]
  },
  {
   "cell_type": "code",
   "execution_count": 2,
   "metadata": {},
   "outputs": [
    {
     "name": "stdout",
     "output_type": "stream",
     "text": [
      "Number of statements stored:  242\n",
      "----------------------------------\n"
     ]
    }
   ],
   "source": [
    "for root, dirs, files in os.walk(data_path+'/statements_peru/'):\n",
    "    print('Number of statements stored: ', len(files))\n",
    "    print('----------------------------------')"
   ]
  },
  {
   "cell_type": "code",
   "execution_count": 3,
   "metadata": {},
   "outputs": [],
   "source": [
    "# Useful functions: extract text from PDF and get month number from strings\n",
    "from io import StringIO\n",
    "from pdfminer.pdfinterp import PDFResourceManager, PDFPageInterpreter\n",
    "from pdfminer.converter import TextConverter\n",
    "from pdfminer.layout import LAParams\n",
    "from pdfminer.pdfpage import PDFPage\n",
    "import datetime\n",
    "\n",
    "def extract_text_from_pdf(pdf_path):\n",
    "    resource_manager = PDFResourceManager()\n",
    "    file_ptr = open(pdf_path, 'rb')\n",
    "    string_io = StringIO()\n",
    "    text_converter = TextConverter(resource_manager, string_io, laparams=LAParams())\n",
    "    pdf_interpreter = PDFPageInterpreter(resource_manager, text_converter)\n",
    "\n",
    "    for page in PDFPage.get_pages(file_ptr, caching=True, check_extractable=True):\n",
    "        pdf_interpreter.process_page(page)\n",
    "\n",
    "    text = string_io.getvalue()\n",
    "    file_ptr.close()\n",
    "    string_io.close()\n",
    "\n",
    "    return text\n",
    "\n",
    "def get_month(x):\n",
    "    months = {'enero': 1,'febrero': 2,'marzo': 3,'abril':4,'mayo':5,'junio':6,\n",
    "         'julio':7,'agosto':8,'setiembre':9,'septiembre':9,'octubre':10,'noviembre':11,'diciembre':12}\n",
    "    a = x.lower()\n",
    "    try:\n",
    "        ez = months[a]\n",
    "        return (ez)\n",
    "    except:\n",
    "        raise ValueError('Not a month')"
   ]
  },
  {
   "cell_type": "code",
   "execution_count": 4,
   "metadata": {},
   "outputs": [
    {
     "data": {
      "text/html": [
       "<div>\n",
       "<style scoped>\n",
       "    .dataframe tbody tr th:only-of-type {\n",
       "        vertical-align: middle;\n",
       "    }\n",
       "\n",
       "    .dataframe tbody tr th {\n",
       "        vertical-align: top;\n",
       "    }\n",
       "\n",
       "    .dataframe thead th {\n",
       "        text-align: right;\n",
       "    }\n",
       "</style>\n",
       "<table border=\"1\" class=\"dataframe\">\n",
       "  <thead>\n",
       "    <tr style=\"text-align: right;\">\n",
       "      <th></th>\n",
       "      <th>statement</th>\n",
       "      <th>date</th>\n",
       "      <th>text</th>\n",
       "    </tr>\n",
       "  </thead>\n",
       "  <tbody>\n",
       "    <tr>\n",
       "      <th>0</th>\n",
       "      <td>Nota-Informativa-001-2003-BCRP.pdf</td>\n",
       "      <td>2003-01-01</td>\n",
       "      <td>Nota de Prensa DIRECTORIO DEL BCR APR...</td>\n",
       "    </tr>\n",
       "    <tr>\n",
       "      <th>1</th>\n",
       "      <td>Nota-Informativa-002-2003-BCRP.pdf</td>\n",
       "      <td>2003-02-01</td>\n",
       "      <td>Nota de Prensa DIRECTORIO DEL BCR APR...</td>\n",
       "    </tr>\n",
       "    <tr>\n",
       "      <th>2</th>\n",
       "      <td>Nota-Informativa-003-2003-BCRP.pdf</td>\n",
       "      <td>2003-03-01</td>\n",
       "      <td>Nota de Prensa DIRECTORIO DEL BCR APR...</td>\n",
       "    </tr>\n",
       "    <tr>\n",
       "      <th>3</th>\n",
       "      <td>Nota-Informativa-004-2003-BCRP.pdf</td>\n",
       "      <td>2003-04-01</td>\n",
       "      <td>Nota de Prensa PROGRAMA MONETARIO ...</td>\n",
       "    </tr>\n",
       "    <tr>\n",
       "      <th>4</th>\n",
       "      <td>Nota-Informativa-005-2003-BCRP.pdf</td>\n",
       "      <td>2003-05-01</td>\n",
       "      <td>Nota de Prensa DIRECTORIO DEL BCR ...</td>\n",
       "    </tr>\n",
       "    <tr>\n",
       "      <th>...</th>\n",
       "      <td>...</td>\n",
       "      <td>...</td>\n",
       "      <td>...</td>\n",
       "    </tr>\n",
       "    <tr>\n",
       "      <th>237</th>\n",
       "      <td>nota-informativa-2022-10-06-1.pdf</td>\n",
       "      <td>2022-10-01</td>\n",
       "      <td>NOTA INFORMATIVA PROGRAMA MONETARIO DE OCTUBRE...</td>\n",
       "    </tr>\n",
       "    <tr>\n",
       "      <th>238</th>\n",
       "      <td>nota-informativa-2022-11-10-1.pdf</td>\n",
       "      <td>2022-11-01</td>\n",
       "      <td>NOTA INFORMATIVA PROGRAMA MONETARIO DE NOVIEMB...</td>\n",
       "    </tr>\n",
       "    <tr>\n",
       "      <th>239</th>\n",
       "      <td>nota-informativa-2022-12-07-1.pdf</td>\n",
       "      <td>2022-12-01</td>\n",
       "      <td>NOTA INFORMATIVA PROGRAMA MONETARIO DE DICIEMB...</td>\n",
       "    </tr>\n",
       "    <tr>\n",
       "      <th>240</th>\n",
       "      <td>nota-informativa-2023-01-12-1.pdf</td>\n",
       "      <td>2023-01-01</td>\n",
       "      <td>NOTA INFORMATIVA PROGRAMA MONETARIO DE ENERO 2...</td>\n",
       "    </tr>\n",
       "    <tr>\n",
       "      <th>241</th>\n",
       "      <td>nota-informativa-2023-02-09-1.pdf</td>\n",
       "      <td>2023-02-01</td>\n",
       "      <td>NOTA INFORMATIVA PROGRAMA MONETARIO DE FEBRERO...</td>\n",
       "    </tr>\n",
       "  </tbody>\n",
       "</table>\n",
       "<p>242 rows × 3 columns</p>\n",
       "</div>"
      ],
      "text/plain": [
       "                              statement        date  \\\n",
       "0    Nota-Informativa-001-2003-BCRP.pdf  2003-01-01   \n",
       "1    Nota-Informativa-002-2003-BCRP.pdf  2003-02-01   \n",
       "2    Nota-Informativa-003-2003-BCRP.pdf  2003-03-01   \n",
       "3    Nota-Informativa-004-2003-BCRP.pdf  2003-04-01   \n",
       "4    Nota-Informativa-005-2003-BCRP.pdf  2003-05-01   \n",
       "..                                  ...         ...   \n",
       "237   nota-informativa-2022-10-06-1.pdf  2022-10-01   \n",
       "238   nota-informativa-2022-11-10-1.pdf  2022-11-01   \n",
       "239   nota-informativa-2022-12-07-1.pdf  2022-12-01   \n",
       "240   nota-informativa-2023-01-12-1.pdf  2023-01-01   \n",
       "241   nota-informativa-2023-02-09-1.pdf  2023-02-01   \n",
       "\n",
       "                                                  text  \n",
       "0             Nota de Prensa DIRECTORIO DEL BCR APR...  \n",
       "1             Nota de Prensa DIRECTORIO DEL BCR APR...  \n",
       "2             Nota de Prensa DIRECTORIO DEL BCR APR...  \n",
       "3                Nota de Prensa PROGRAMA MONETARIO ...  \n",
       "4                Nota de Prensa DIRECTORIO DEL BCR ...  \n",
       "..                                                 ...  \n",
       "237  NOTA INFORMATIVA PROGRAMA MONETARIO DE OCTUBRE...  \n",
       "238  NOTA INFORMATIVA PROGRAMA MONETARIO DE NOVIEMB...  \n",
       "239  NOTA INFORMATIVA PROGRAMA MONETARIO DE DICIEMB...  \n",
       "240  NOTA INFORMATIVA PROGRAMA MONETARIO DE ENERO 2...  \n",
       "241  NOTA INFORMATIVA PROGRAMA MONETARIO DE FEBRERO...  \n",
       "\n",
       "[242 rows x 3 columns]"
      ]
     },
     "execution_count": 4,
     "metadata": {},
     "output_type": "execute_result"
    }
   ],
   "source": [
    "# Creating master df_text with a loop\n",
    "df_text = []\n",
    "for file in files:\n",
    "    new_statement = {}\n",
    "    try:\n",
    "        fname = data_path + '/statements_peru/' + file\n",
    "        text = extract_text_from_pdf(fname)\n",
    "        text = text.strip()\n",
    "        text = re.sub(r'^[\\n]*', '', text) \n",
    "        text = re.sub('\\\\n', '', text) \n",
    "        text = re.sub('\\s{2}', ' ', text) \n",
    "        text = re.sub('\\s{2}', ' ', text) \n",
    "        text = re.sub('\\s{2}', ' ', text) \n",
    "        text = re.sub('BANCO CENTRAL DE RESERVA DEL PERÚ ', ' ', text)\n",
    "        text = re.sub(r'S\\/. ','',text)\n",
    "        text = re.sub(r'\\s\\d\\.','.',text)\n",
    "        text = re.sub(r'\\s[a-z]\\.','.',text)\n",
    "        text = re.sub(r'\\.\\.','.',text)\n",
    "\n",
    "        # Add new row to master df_text\n",
    "        new_statement['statement'] = file\n",
    "        \n",
    "        # Creating feature of time\n",
    "        try:\n",
    "            regex_date_1 = \"(\\d{1,2})\\s..\\s(enero|febrero|marzo|abril|mayo|junio|julio|agosto|septiembre|setiembre|octubre|noviembre|diciembre)\\s..\\s(\\d{4})\"\n",
    "            date_1 = list(re.findall(regex_date_1,text)[-1])\n",
    "            new_statement['date_1'] = datetime.date(year=int(date_1[2]), month=get_month(date_1[1]), day=1)\n",
    "        except Exception as e:\n",
    "                        count =+1\n",
    "\n",
    "        try:\n",
    "            regex_date_2 = '(ENERO|FEBRERO|MARZO|ABRIL|MAYO|JUNIO|JULIO|AGOSTO|SETIEMBRE|SEPTIEMBRE|OCTUBRE|NOVIEMBRE|DICIEMBRE)\\s..\\s(\\d{4})'\n",
    "            date_2 = list(re.findall(regex_date_2,text)[0])\n",
    "            new_statement['date_2'] = datetime.date(year=int(date_2[1]), month=get_month(date_2[0]), day=1)\n",
    "        except Exception as e:\n",
    "            new_statement['date_2'] = datetime.date(year=int(date_1[2]), month=get_month(date_1[1]), day=1)\n",
    "\n",
    "        try:\n",
    "            regex_date_3 = '(ENERO|Enero|FEBRERO|Febrero|MARZO|Marzo|ABRIL|Abril|MAYO|Mayo|JUNIO|Junio|JULIO|Julio|AGOSTO|Agosto|SETIEMBRE|SEPTIEMBRE|Setiembre|OCTUBRE|Octubre|NOVIEMBRE|Noviembre|DICIEMBRE|Diciembre)\\s(\\d{4})'\n",
    "            date_3 = list(re.findall(regex_date_3,text)[0])\n",
    "            new_statement['date'] = datetime.date(year=int(date_3[1]), month=get_month(date_3[0]), day=1)\n",
    "        except Exception as e:\n",
    "            if len(date_2)>0:\n",
    "                  new_statement['date'] = datetime.date(year=int(date_2[1]), month=get_month(date_2[0]), day=1)\n",
    "            else:\n",
    "                  new_statement['date'] = datetime.date(year=int(date_1[2]), month=get_month(date_1[1]), day=1)\n",
    "\n",
    "        # Adding the text\n",
    "        new_statement['text'] = text\n",
    "\n",
    "        # Append to the master df_text\n",
    "        df_text.append(new_statement)\n",
    "\n",
    "    except Exception as e:\n",
    "                count =+1\n",
    "\n",
    "df_text = pd.DataFrame(df_text)\n",
    "df_text = df_text.drop(columns=['date_1','date_2'])\n",
    "df_text = df_text.sort_values(by='date', ignore_index=True)\n",
    "df_text.to_csv(data_path+'/text_data_per.csv',index=False)\n",
    "df_text"
   ]
  },
  {
   "cell_type": "code",
   "execution_count": 5,
   "metadata": {},
   "outputs": [
    {
     "name": "stdout",
     "output_type": "stream",
     "text": [
      "File name:  nota-informativa-2022-12-07-1.pdf\n",
      "Date:  2022-12-01\n",
      "NOTA INFORMATIVA PROGRAMA MONETARIO DE DICIEMBRE 2022 BCRP ELEVA LA TASA DE INTERÉS DE REFERENCIA A 7,50%. El Directorio del Banco Central de Reserva del Perú acordó elevar la tasa de interés de referencia en 25 pbs. a 7,50 por ciento, continuando con los ajustes de la posición de política monetaria. Para esta decisión se consideró la siguiente información:. La tasa de inflación a doce meses aumentó de 8,28 por ciento en octubre a 8,45 por ciento en noviembre, mientras que la tasa de inflación sin alimentos y energía a doce meses se redujo de 5,72 por ciento en octubre a 5,71 por ciento en noviembre. Ambos indicadores se ubicaron por encima del límite superior del rango meta de inflación. ii. El aumento significativo de los precios internacionales de energía y alimentos desde la segunda mitad del año pasado, acentuado por los conflictos internacionales, ha conllevado a un fuerte incremento de las tasas de inflación a nivel global en magnitudes no vistas en muchos años y hacia niveles significativamente superiores a las metas de inflación de bancos centrales, tanto de economías avanzadas como de la región. iii. Se proyecta una tendencia decreciente de la inflación interanual con el retorno al rango meta en el cuarto trimestre del próximo año, debido a la moderación del efecto de los precios internacionales de alimentos y energía, y a una reducción de las expectativas de inflación. iv. Las expectativas de inflación a doce meses se redujeron de 4,78 por ciento en octubre a 4,68 por ciento en noviembre y para el año 2023 se ubican en 4,40 por ciento, por encima del límite superior del rango meta de inflación. La mayor parte de los indicadores adelantados y de expectativas sobre la economía se mantiene en el tramo pesimista. vi. Las perspectivas de crecimiento de la actividad económica mundial han venido disminuyendo por los efectos de la política monetaria restrictiva en las economías avanzadas, el impacto de la inflación sobre el consumo, el menor crecimiento de China y los conflictos internacionales. El Directorio se encuentra especialmente atento a la nueva información referida a la inflación y sus determinantes, incluyendo la evolución de las expectativas de inflación y la actividad económica, para considerar modificaciones adicionales en la posición de la política monetaria. El Directorio reafirma su compromiso de adoptar las acciones necesarias para asegurar el retorno de la inflación al rango meta en el horizonte de proyección. En la misma sesión el Directorio acordó las siguientes tasas de interés de las operaciones en moneda nacional del BCRP con el sistema financiero bajo la modalidad de ventanilla. Depósitos overnight: 5,25 por ciento anual. ii. Operaciones de reporte directas de títulos valores y de moneda, y Créditos de Regulación Monetaria: i) 8,00 por ciento anual para las primeras 10 operaciones en los últimos 3 meses; y ii) la tasa de interés que fije el Comité de Operaciones Monetarias y Cambiarias para las operaciones adicionales a estas 10 operaciones en los últimos 3 meses. Además, el Comité de Operaciones Monetarias y Cambiarias podrá establecer tasas superiores en función al monto de las operaciones. El cronograma de las sesiones en las que el Directorio aprobará el Programa Monetario para los próximos doce meses es el siguiente: 12 de enero 13 de abril 13 de julio 5 de octubre 9 de febrero 11 de mayo 10 de agosto 9 de noviembre 9 de marzo 8 de junio 14 de setiembre 14 de diciembre Lima, 7 de diciembre de 2022.\n",
      "-----\n",
      "File name:  nota-informativa-2023-01-12-1.pdf\n",
      "Date:  2023-01-01\n",
      "NOTA INFORMATIVA PROGRAMA MONETARIO DE ENERO 2023 BCRP ELEVA LA TASA DE INTERÉS DE REFERENCIA A 7,75%. El Directorio del Banco Central de Reserva del Perú acordó elevar la tasa de interés de referencia en 25 pbs. a 7,75 por ciento, continuando con los ajustes de la posición de política monetaria. Para esta decisión se consideró la siguiente información:. La tasa de inflación a doce meses aumentó de 8,45 por ciento en noviembre a 8,46 por ciento en diciembre, por mayores precios de alimentos producidos localmente, mientras que la tasa de inflación sin alimentos y energía a doce meses se redujo de 5,71 por ciento en noviembre a 5,59 por ciento en diciembre. Ambos indicadores se ubicaron por encima del límite superior del rango meta de inflación. ii. El aumento significativo de los precios internacionales de energía y alimentos desde la segunda mitad de 2021, acentuado por los conflictos internacionales, ha conllevado a un fuerte incremento de las tasas de inflación a nivel global en magnitudes no vistas en muchos años y hacia niveles significativamente superiores a las metas de inflación de bancos centrales, tanto de economías avanzadas como de la región. iii. Se proyecta una tendencia decreciente de la inflación interanual desde marzo con el retorno al rango meta en el cuarto trimestre de este año, debido a la moderación del efecto de los precios internacionales de alimentos y energía, y a una reducción de las expectativas de inflación. iv. Las expectativas de inflación a doce meses se redujeron de 4,68 por ciento en noviembre a 4,30 por ciento en diciembre, por encima del límite superior del rango meta de inflación. La mayor parte de los indicadores adelantados y de expectativas sobre la economía se recuperó en diciembre, aunque se mantiene en el tramo pesimista. vi. Las perspectivas de crecimiento de la actividad económica mundial han venido disminuyendo por los efectos de la política monetaria restrictiva en las economías avanzadas, el impacto de la inflación sobre el consumo y los conflictos internacionales. El Directorio se encuentra especialmente atento a la nueva información referida a la inflación y sus determinantes, incluyendo la evolución de las expectativas de inflación y la actividad económica, para considerar modificaciones adicionales en la posición de la política monetaria. El Directorio reafirma su compromiso de adoptar las acciones necesarias para asegurar el retorno de la inflación al rango meta en el horizonte de proyección. En la misma sesión el Directorio acordó las siguientes tasas de interés de las operaciones en moneda nacional del BCRP con el sistema financiero bajo la modalidad de ventanilla. Depósitos overnight: 5,25 por ciento anual. ii. Operaciones de reporte directas de títulos valores y de moneda, y Créditos de Regulación Monetaria: i) 8,25 por ciento anual para las primeras 10 operaciones en los últimos 3 meses; y ii) la tasa de interés que fije el Comité de Operaciones Monetarias y Cambiarias para las operaciones adicionales a estas 10 operaciones en los últimos 3 meses. Además, el Comité de Operaciones Monetarias y Cambiarias podrá establecer tasas superiores en función al monto de las operaciones. La próxima sesión del Directorio en que se evaluará el Programa Monetario está programada para el 9 de febrero de 2023. Lima, 12 de enero de 2023.\n",
      "-----\n",
      "File name:  nota-informativa-2023-02-09-1.pdf\n",
      "Date:  2023-02-01\n",
      "NOTA INFORMATIVA PROGRAMA MONETARIO DE FEBRERO 2023 BCRP MANTUVO LA TASA DE INTERÉS DE REFERENCIA EN 7,75%. El Directorio del Banco Central de Reserva del Perú acordó mantener la tasa de interés de referencia en 7,75 por ciento. Esta pausa no necesariamente implica el fin del ciclo de alzas en la tasa de interés. Futuros ajustes en la tasa de referencia estarán condicionados a la nueva información sobre la inflación y sus determinantes, incluyendo los efectos macroeconómicos de los acontecimientos sociales recientes. En enero la tasa mensual de inflación fue 0,23 por ciento y la inflación sin alimentos y energía fue 0,05 por ciento. La tasa de inflación a doce meses aumentó de 8,46 por ciento en diciembre a 8,66 por ciento en enero, por mayores precios de alimentos producidos localmente, mientras que la tasa de inflación sin alimentos y energía a doce meses aumentó de 5,59 por ciento en diciembre a 5,80 por ciento en enero. Ambos indicadores se ubicaron por encima del límite superior del rango meta de inflación. ii. El aumento significativo de los precios internacionales de energía y alimentos desde la segunda mitad de 2021, acentuado por los conflictos internacionales, ha conllevado a un fuerte incremento de las tasas de inflación a nivel global en magnitudes no vistas en muchos años y hacia niveles significativamente superiores a las metas de inflación de bancos centrales, tanto de economías avanzadas como de la región. En el caso de la inflación local, ello ha sido acentuado por los conflictos sociales desde diciembre. iii. Se proyecta una tendencia decreciente de la inflación interanual desde marzo con el retorno al rango meta en el cuarto trimestre de este año, debido a la moderación del efecto de los precios internacionales de alimentos y energía, a la reversión de choques de oferta en el sector agrícola y a una reducción de las expectativas de inflación en el resto del año. iv. Las expectativas de inflación a doce meses se elevaron de 4,30 por ciento en diciembre a 4,62 por ciento en enero, por encima del límite superior del rango meta de inflación. La mayor parte de los indicadores adelantados y de expectativas sobre la economía se deterioró en enero, y se mantiene en el tramo pesimista. vi. Las perspectivas de crecimiento de la actividad económica mundial han mostrado una ligera mejoría, aunque subsiste el riesgo global por los efectos de la política monetaria restrictiva en las economías avanzadas, el impacto de la inflación sobre el consumo y los conflictos internacionales. El Directorio se encuentra especialmente atento a la nueva información referida a la inflación y sus determinantes, incluyendo la evolución de las expectativas de inflación y la actividad económica para considerar, de ser necesario, modificaciones adicionales en la posición de la política monetaria. El Directorio reafirma su compromiso de adoptar las acciones necesarias para asegurar el retorno de la inflación al rango meta en el horizonte de proyección. En la misma sesión el Directorio acordó mantener las siguientes tasas de interés de las operaciones en moneda nacional del BCRP con el sistema financiero bajo la modalidad de ventanilla. Depósitos overnight: 5,25 por ciento anual. ii. Operaciones de reporte directas de títulos valores y de moneda, y Créditos de Regulación Monetaria: i) 8,25 por ciento anual para las primeras 10 operaciones en los últimos 3 meses; y ii) la tasa de interés que fije el Comité de Operaciones Monetarias y Cambiarias para las operaciones adicionales a estas 10 operaciones en los últimos 3 meses. Además, el Comité de Operaciones Monetarias y Cambiarias podrá establecer tasas superiores en función al monto de las operaciones. La próxima sesión del Directorio en que se evaluará el Programa Monetario está programada para el 9 de marzo de 2023. Lima, 9 de febrero de 2023.\n",
      "-----\n"
     ]
    }
   ],
   "source": [
    "# Let's see some statements\n",
    "for i in range(239,242):\n",
    "    print('File name: ', df_text.statement[i])\n",
    "    print('Date: ', df_text.date[i])\n",
    "    print(df_text.text[i])\n",
    "    print('-----')"
   ]
  }
 ],
 "metadata": {
  "kernelspec": {
   "display_name": "Python 3",
   "language": "python",
   "name": "python3"
  },
  "language_info": {
   "codemirror_mode": {
    "name": "ipython",
    "version": 3
   },
   "file_extension": ".py",
   "mimetype": "text/x-python",
   "name": "python",
   "nbconvert_exporter": "python",
   "pygments_lexer": "ipython3",
   "version": "3.10.6"
  },
  "orig_nbformat": 4,
  "vscode": {
   "interpreter": {
    "hash": "916dbcbb3f70747c44a77c7bcd40155683ae19c65e1c03b4aa3499c5328201f1"
   }
  }
 },
 "nbformat": 4,
 "nbformat_minor": 2
}
